{
 "cells": [
  {
   "cell_type": "markdown",
   "metadata": {},
   "source": [
    "# Shannon Fano Encoder and Decoder"
   ]
  },
  {
   "cell_type": "code",
   "execution_count": 11,
   "metadata": {},
   "outputs": [],
   "source": [
    "from collections import Counter"
   ]
  },
  {
   "cell_type": "code",
   "execution_count": 12,
   "metadata": {},
   "outputs": [],
   "source": [
    "class ShanonFanno(object):\n",
    "\n",
    "    def __init__(self):\n",
    "        self.sorted_s = []\n",
    "        self.char_dict = dict()\n",
    "        self.encoded_dict = dict()\n",
    "        self.encoded_string = ''\n",
    "\n",
    "        \n",
    "    def code_tree(self, symbols):\n",
    "        if len(symbols)==2:\n",
    "            self.encoded_dict[symbols[0]] += '0'\n",
    "            self.encoded_dict[symbols[1]] += '1'\n",
    "        elif len(symbols)>2:\n",
    "            breaking_index = self.break_the_node(symbols)\n",
    "            for i in range(len(symbols)):\n",
    "                left_part = i<=breaking_index\n",
    "                if left_part:\n",
    "                    self.encoded_dict[symbols[i]] += '0'\n",
    "                else:\n",
    "                    self.encoded_dict[symbols[i]] += '1'\n",
    "            self.code_tree(symbols[:breaking_index+1])\n",
    "            self.code_tree(symbols[breaking_index+1:])\n",
    "                    \n",
    "                \n",
    "\n",
    "    def make_count(self):\n",
    "        self.char_dict = dict(Counter(self.sentence))\n",
    "        char_ls = sorted(self.char_dict.items(), key=operator.itemgetter(1),reverse=True)\n",
    "        sorted_s = []\n",
    "        for i in char_ls :\n",
    "            sorted_s.append(i[0])\n",
    "        return self.char_dict, sorted_s\n",
    "\n",
    "    \n",
    "\n",
    "    def break_the_node(self, node):\n",
    "        total = 0\n",
    "        for i in range(len(node)):\n",
    "            total += self.char_dict[node[i]]\n",
    "        length = len(node)\n",
    "        count = 0\n",
    "        last_char_index = 0\n",
    "        for i in range(length):\n",
    "            count += self.char_dict[node[i]]\n",
    "            if (count - (total/2) < 0):\n",
    "                last_char_index += 1\n",
    "        return last_char_index\n",
    "\n",
    "    \n",
    "    \n",
    "    def display_compressed(self):\n",
    "        print(\"the encoded string:\")\n",
    "        for ch in self.sentence:\n",
    "            print(self.encoded_dict[ch], end=\"\")\n",
    "        print(self.encoded_dict)\n",
    "        \n",
    "  \n",
    "\n",
    "    def encode(self, s):\n",
    "        self.sentence = s\n",
    "        self.total = len(s)\n",
    "        self.char_dict, self.sorted_s = self.make_count() \n",
    "        self.encoded_dict = {new_list: '' for new_list in self.sorted_s}\n",
    "        self.code_tree(self.sorted_s)\n",
    "        for ch in self.sentence:\n",
    "            self.encoded_string += self.encoded_dict[ch]\n",
    "        return self.encoded_string\n",
    "    \n",
    "        \n"
   ]
  },
  {
   "cell_type": "code",
   "execution_count": 13,
   "metadata": {},
   "outputs": [
    {
     "name": "stdout",
     "output_type": "stream",
     "text": [
      "the encoded version:\n",
      "000000110101101010101010101010000000111{1: '0', 3: '10', 2: '110', 0: '111'}\n"
     ]
    }
   ],
   "source": [
    "s = [1,1,1,1,1,1,2,3,2,3,3,3,3,3,3,3,3,1,1,1,1,1,1,0]\n",
    "shf = ShanonFanno()\n",
    "shf.encode(s)\n",
    "shf.display_compressed()"
   ]
  },
  {
   "cell_type": "code",
   "execution_count": 14,
   "metadata": {},
   "outputs": [],
   "source": [
    "def decode(encoded_string, dictionary):\n",
    "    holder = []\n",
    "    codes = list(dictionary.values())\n",
    "    symbols = list(dictionary.keys())\n",
    "    inv_dictionary = dict(zip(codes, symbols))\n",
    "    while(len(encoded_string) != 0):\n",
    "        for code in codes:\n",
    "            if encoded_string.startswith(code):\n",
    "                holder.append(inv_dictionary.get(code))\n",
    "                encoded_string = encoded_string[len(code):]\n",
    "    return holder"
   ]
  },
  {
   "cell_type": "code",
   "execution_count": 15,
   "metadata": {},
   "outputs": [
    {
     "data": {
      "text/plain": [
       "[1, 1, 1, 1, 1, 1, 2, 3, 2, 3, 3, 3, 3, 3, 3, 3, 3, 1, 1, 1, 1, 1, 1, 0]"
      ]
     },
     "execution_count": 15,
     "metadata": {},
     "output_type": "execute_result"
    }
   ],
   "source": [
    "decode('000000110101101010101010101010000000111', {1: '0',3:'10', 2:'110', 0:'111'})"
   ]
  }
 ],
 "metadata": {
  "kernelspec": {
   "display_name": "Python 3",
   "language": "python",
   "name": "python3"
  },
  "language_info": {
   "codemirror_mode": {
    "name": "ipython",
    "version": 3
   },
   "file_extension": ".py",
   "mimetype": "text/x-python",
   "name": "python",
   "nbconvert_exporter": "python",
   "pygments_lexer": "ipython3",
   "version": "3.7.6"
  }
 },
 "nbformat": 4,
 "nbformat_minor": 4
}
